{
 "cells": [
  {
   "cell_type": "markdown",
   "id": "799843fb",
   "metadata": {},
   "source": [
    "In this notebook you'll be using [Spotipy](https://github.com/spotipy-dev/spotipy), a Python package, to talk to the Spotify API. This means you won't have to manually create API URLs, you'll just need to figure out how to make Spotipy do it for you! The full Spotipy documentation is available at [https://spotipy.readthedocs.io/](https://spotipy.readthedocs.io/)\n",
    "\n",
    "# To access *public* Spotify data\n",
    "\n",
    "You'll want to go to the [Spotify for Developers Dashboard](https://developer.spotify.com/dashboard) and create a new app. This will give you a `client_id` and `client_secret`! It's like a super-advanced version of an API key. When you're setting up your app it will probably also ask you for other things like a redirect URL - just put whatever you want in there, it doesn't matter. If it asks what you want access to, you can pick the Web API (but I don't think it matters).\n",
    "\n",
    "> The code below won't work since it's *my* secret keys. I've deleted them so that this notebook is nice and safe for me!"
   ]
  },
  {
   "cell_type": "code",
   "execution_count": null,
   "id": "b53ee125-9349-4434-8e01-5369c4145342",
   "metadata": {},
   "outputs": [],
   "source": [
    "import spotipy\n",
    "from spotipy.oauth2 import SpotifyClientCredentials\n",
    "\n",
    "sp = spotipy.Spotify(auth_manager=SpotifyClientCredentials(\n",
    "    client_id='XXXXXXXXXXXXXXXXX',\n",
    "    client_secret='XXXXXXXXXXXXXXXXX',\n",
    "))"
   ]
  },
  {
   "cell_type": "markdown",
   "id": "df431b17",
   "metadata": {},
   "source": [
    "When you want data from Spotify, you can't just go to `/artists/Pixies` in order to get work by Pixies! You have to find a special code for the artist (or song, or album, or whatever). It's called the `uri`.\n",
    "\n",
    "> You can find more details on searching [on the Spotipy documentation](https://spotipy.readthedocs.io/en/2.22.1/#spotipy.client.Spotify.search) or the [Spotify Web API documentation](https://developer.spotify.com/documentation/web-api/reference/search). Remember that Spotipy is a Python wrapper for the Spotify API, so you don't need to work with any URLs!\n",
    "\n",
    "To find the `uri`, you first need to do a search. Below we use `sp.search` to search for a particular artist."
   ]
  },
  {
   "cell_type": "code",
   "execution_count": null,
   "id": "23ca8854-ccdf-4225-b542-c2dc113bd8e7",
   "metadata": {},
   "outputs": [],
   "source": [
    "# Search for the artist Pixies\n",
    "results = sp.search(q='artist:Pixies', type='artist')"
   ]
  },
  {
   "cell_type": "markdown",
   "id": "7721bc81",
   "metadata": {},
   "source": [
    "The `results` it shows us is awful and long and terrible. Instead of showing you how to do that, I already poked through it and found the top artist result from our search."
   ]
  },
  {
   "cell_type": "code",
   "execution_count": null,
   "id": "2b8eed9b-b34e-419e-b621-7246f5437f4b",
   "metadata": {},
   "outputs": [],
   "source": [
    "results['artists']['items'][0]"
   ]
  },
  {
   "cell_type": "markdown",
   "id": "f9c8b4d0",
   "metadata": {},
   "source": [
    "There we go! The `uri` looks to be `spotify:artist:6zvul52xwTWzilBZl6BUbT`.\n",
    "\n",
    "Now the sad part: the Spotipy documentation is...... not great. The Spotify Web API docs look good, *but* we're using the Python wrapper, not the raw Spotify API! Luckily Spotipy has a great [list of examples](https://github.com/spotipy-dev/spotipy/tree/master/examples), including one for [an artist's top tracks](https://github.com/spotipy-dev/spotipy/blob/master/examples/simple_artist_top_tracks.py).\n",
    "\n",
    "```python\n",
    "from spotipy.oauth2 import SpotifyClientCredentials\n",
    "import spotipy\n",
    "\n",
    "lz_uri = 'spotify:artist:36QJpDe2go2KgaRleHCDTp'\n",
    "\n",
    "client_credentials_manager = SpotifyClientCredentials()\n",
    "sp = spotipy.Spotify(client_credentials_manager=client_credentials_manager)\n",
    "\n",
    "results = sp.artist_top_tracks(lz_uri)\n",
    "\n",
    "for track in results['tracks'][:10]:\n",
    "    print('track    : ' + track['name'])\n",
    "    print('audio    : ' + track['preview_url'])\n",
    "    print('cover art: ' + track['album']['images'][0]['url'])\n",
    "```\n",
    "\n",
    "Since we already have the credentials and blah blah blah set up, all we need to do is adapt the `sp.artist_top_tracks(lz_uri)` line and everything below it."
   ]
  },
  {
   "cell_type": "code",
   "execution_count": null,
   "id": "947ff2a4-1be0-4dc5-9eeb-0a0dff9fff4f",
   "metadata": {},
   "outputs": [],
   "source": [
    "results = sp.artist_top_tracks('spotify:artist:6zvul52xwTWzilBZl6BUbT')\n",
    "\n",
    "for track in results['tracks'][:10]:\n",
    "    print(track['name'])"
   ]
  },
  {
   "cell_type": "markdown",
   "id": "e5a7a659",
   "metadata": {},
   "source": [
    "And that's about it! You use magic codes and it lets you get up-to-date information."
   ]
  },
  {
   "cell_type": "markdown",
   "id": "3ef05e15",
   "metadata": {},
   "source": [
    "# Your mission\n",
    "\n",
    "I recently came across a Spotify playlist called [Fall in a 90s Suburb](https://open.spotify.com/playlist/7r2XnAUl6moWkcwOaWgihD?si=505c8f22f4314a33) while researching the band [SEAGULL SCREAMING KISS HER KISS HER](https://open.spotify.com/artist/1WSO9nf7wTj5DZBsncauGr?si=S0xpngxHR1mLF720lMZwxg). The playlist was pretty good, but since since SSKHKH only has like 1,500 listeners each month I was curious about the most/least popular songs on the playlist.\n",
    "\n",
    "## My questions\n",
    "\n",
    "1. What are the ten most popular songs on the playlist?\n",
    "2. What percentage of them have a popularity of zero? Print them out, sorted by the band name.\n",
    "3. Is popularity relative to the artist, the album, all songs on Spotify, or something else?\n",
    "\n",
    "### My suggested approach\n",
    "\n",
    "I suggest approaching this through the following steps:\n",
    "\n",
    "1. Getting the playlist and print out its **name and description**. \n",
    "2. Print out **the name and popularity of each song**\n",
    "3. Print out **the name, popularity, and artists** of each track on the playlist. Or, if you'd like a shortcut, just pick the first artist.\n",
    "4. Instead of printing, use these to **create a new dictionary** each time you look at a track. Print out this dictionary. You should be printing out 476 dictionaries!\n",
    "5. Printing isn't helpful! Instead, after you create the dictionary **append it** to a list called `all_tracks`\n",
    "6. When you're done, `all_tracks` should have 476 items in it\n",
    "7. Sort the list by `popularity`, take the **top ten**\n",
    "8. Filter the list by `popularity`, selecting only the ones with a popularity of `0`\n",
    "\n",
    "### Tips\n",
    "\n",
    "**Spotipy documentation:** https://spotipy.readthedocs.io/\n",
    "\n",
    "**Spotify Web API documentation:** https://developer.spotify.com/documentation/web-api/\n",
    "\n",
    "- Do this in many, many cells, not all in one!\n",
    "- You definitely want to [look at the Spotipy examples](https://github.com/spotipy-dev/spotipy/tree/master/examples) to find some good code to base your answer off of. There are a handful that talk about playlists – it might be helpful to read and compare a few of them!\n",
    "- Getting the playlist name/description is **a different endpoint** than getting the actual songs on the playlist.\n",
    "- Are you printing out the **same number of tracks as are in the actual playlist?** Take note and be careful! It should be ~476.\n",
    "- If you're getting the id of playlist songs but not seeing song names, look for `fields='items.track.id,total` in your code. It's only pulling the track's id! Change it to `items.track,total` and it will return [more information about each track](https://developer.spotify.com/documentation/web-api/reference/get-playlists-tracks)\n",
    "- `all_tracks = []` should be the first line in your cell. That makes sure it always resets to being empty before you start adding tracks to it.\n",
    "- Be sure the first and last items in `all_tracks` are different – maybe you're accidentally adding the same item each time!\n",
    "- Normally we sort lists of numbers, which is easy. Sorting a list of dictionaries can be done easily with `key=`. Look it up!\n",
    "- Pick the most popular 10 songs using list comprehensions\n",
    "- Filtering is best done with a list comprehension.\n",
    "- You can sort by things that aren't numbers!"
   ]
  },
  {
   "cell_type": "code",
   "execution_count": null,
   "id": "f97ae547",
   "metadata": {},
   "outputs": [],
   "source": []
  }
 ],
 "metadata": {
  "kernelspec": {
   "display_name": "Python 3 (ipykernel)",
   "language": "python",
   "name": "python3"
  },
  "language_info": {
   "codemirror_mode": {
    "name": "ipython",
    "version": 3
   },
   "file_extension": ".py",
   "mimetype": "text/x-python",
   "name": "python",
   "nbconvert_exporter": "python",
   "pygments_lexer": "ipython3",
   "version": "3.10.13"
  }
 },
 "nbformat": 4,
 "nbformat_minor": 5
}
